{
 "cells": [
  {
   "cell_type": "markdown",
   "id": "72ae185e-a3fe-44f4-9e29-3fe24d7da670",
   "metadata": {},
   "source": [
    "\n",
    "\n",
    "**Jupyter notebook quick start:**<br>\n",
    "- \\<Shift>+\\<Return> --> runs a cell\n",
    "- ! --> shell escape [! Linux command line]\n",
    "- use a (above) and b (below) left of the [ ] to open new cells\n",
    "---"
   ]
  },
  {
   "cell_type": "markdown",
   "id": "a674c0e6-3b75-4d07-a70a-c15e65aa25e4",
   "metadata": {},
   "source": [
    "# Discrete Fourier Transform\n",
    "\n",
    "The discrete Fourier transform (DFT) is a fundamental transform in digital signal processing.\n",
    "\n",
    "It is used to analyze the frequency content of a signal. The DFT is defined as:\n",
    "$$\n",
    "X(k) = Σ x(n) * exp(-j2πnk/N)\n",
    "$$ \n",
    "\n",
    "where $X(k)$ is the $k$th frequency component of the signal,\n",
    "$x(n)$ is the nth sample of the signal, \n",
    "$j$ is the imaginary unit, and\n",
    "$N$ is the number of samples in the signal.\n",
    "\n",
    "The DFT is a complex-valued function, and it returns the amplitude and phase of each frequency component in the signal."
   ]
  },
  {
   "cell_type": "markdown",
   "id": "130533ed-ffb5-42d8-9e0e-f66a719dd28a",
   "metadata": {},
   "source": [
    "# Serial vs Parallel DFT\n",
    "\n",
    "The Python program below finds the maximum frequency in the given signal and also shows the computation time required for the calculation."
   ]
  },
  {
   "cell_type": "code",
   "execution_count": 4,
   "id": "2b99dd8a-f406-446f-a377-142cddde5732",
   "metadata": {
    "tags": []
   },
   "outputs": [
    {
     "name": "stdout",
     "output_type": "stream",
     "text": [
      "Writing exercises/DFT_serial.py\n"
     ]
    }
   ],
   "source": [
    "%%writefile exercises/DFT_serial.py\n",
    "\n",
    "import numpy as np\n",
    "import time\n",
    "import matplotlib.pyplot as plt\n",
    "\n",
    "\n",
    "def dft(x): # Discrete Fourier Transform\n",
    "    N = len(x)\n",
    "    X = []\n",
    "    for k in range(N//2+1):\n",
    "        X.append(sum(x[n]*np.exp(-2j*np.pi*k*n/N) for n in range(N)))\n",
    "    return X\n",
    "\n",
    "# Start time\n",
    "start_time = time.time()\n",
    "\n",
    "# Data\n",
    "samp = 1000\n",
    "dt = 1/samp\n",
    "t = np.arange(0, 5, dt)\n",
    "data = np.sin(150*2*np.pi*t)+2*np.sin(250*2*np.pi*t)+3*np.sin(350*2*np.pi*t) #signal\n",
    "\n",
    "n = len(data)\n",
    "N2 = n // 2\n",
    "amp = dft(data) # Discrete Fourier Transform\n",
    "frq = np.fft.fftfreq(n, dt) # Calculate the frequency\n",
    "\n",
    "# End time\n",
    "end_time = time.time()\n",
    "\n",
    "# Calculation time\n",
    "calc_time = end_time - start_time\n",
    "print(f'Calculation time: {calc_time:.2f} seconds')\n",
    "\n",
    "amp = np.abs(amp) # Calculate absolute value of the amplitude\n",
    "\n",
    "# Find the maximum amplitude and its corresponding frequency\n",
    "maxA = np.max(amp[:N2])\n",
    "maxF = frq[np.argmax(amp[:N2])]\n",
    "print(f'Max frq = {maxF:.2f} \\n')\n",
    "\n",
    "plt.plot(frq[:N2], amp[:N2]) # Plot the amplitude spectrum\n",
    "plt.savefig('amplitude.png')"
   ]
  },
  {
   "cell_type": "code",
   "execution_count": 6,
   "id": "686c4c7c-7d82-42c6-ba49-00e9ffc9e509",
   "metadata": {
    "tags": []
   },
   "outputs": [
    {
     "name": "stdout",
     "output_type": "stream",
     "text": [
      "Calculation time: 26.59 seconds\n",
      "Max frq = 350.00 \n",
      "\n"
     ]
    }
   ],
   "source": [
    "! python exercises/DFT_serial.py"
   ]
  },
  {
   "cell_type": "markdown",
   "id": "7428111d-09d6-4b4a-96fc-578bbce7b965",
   "metadata": {},
   "source": [
    "It can be seen that finding the maximum frequency takes quite a long time.\n",
    "\n",
    "Let's apply the learned MPI standard to make the calculation faster!"
   ]
  },
  {
   "cell_type": "code",
   "execution_count": 9,
   "id": "92eb4bfb-7480-4742-b2a5-81f183500617",
   "metadata": {
    "tags": []
   },
   "outputs": [
    {
     "name": "stdout",
     "output_type": "stream",
     "text": [
      "Writing exercises/DFT_parallel.py\n"
     ]
    }
   ],
   "source": [
    "%%writefile exercises/DFT_parallel.py\n",
    "\n",
    "import numpy as np\n",
    "import matplotlib.pyplot as plt\n",
    "from mpi4py import MPI\n",
    "\n",
    "def dft(x): # Discrete Fourier Transform\n",
    "    N = len(x)\n",
    "    X = []\n",
    "    for k in range(N//2+1):\n",
    "        X.append(sum(x[n]*np.exp(-2j*np.pi*k*n/N) for n in range(N)))\n",
    "    return X\n",
    "\n",
    "#for calculation time\n",
    "tinit = MPI.Wtime()\n",
    "\n",
    "#MPI for DFT\n",
    "comm = MPI.COMM_WORLD\n",
    "rank = comm.Get_rank()\n",
    "size = comm.Get_size()\n",
    "\n",
    "#Data\n",
    "samp = 1000\n",
    "dt = 1/samp\n",
    "t = np.arange(0, 5, dt)\n",
    "if rank == 0:\n",
    "    data = np.sin(150*2*np.pi*t)+2*np.sin(250*2*np.pi*t)+3*np.sin(350*2*np.pi*t) #signal\n",
    "    data = np.array_split(data, size) #split the data into the number of processes\n",
    "else:\n",
    "    data = None\n",
    "\n",
    "#Scatter data to all processes and calculate DFT\n",
    "data = comm.scatter(data, root=0)\n",
    "amp = dft(data)\n",
    "\n",
    "#Calculate the frequency\n",
    "f = np.fft.fftfreq(len(data), dt)\n",
    "\n",
    "# End time\n",
    "tend = MPI.Wtime()\n",
    "\n",
    "#Calculate absolute value of the amplitude\n",
    "amp = np.abs(amp)\n",
    "\n",
    "#Show the results\n",
    "if rank == 0:\n",
    "    print(f'Parallel Time: {tend-tinit:.2f} s')\n",
    "    N2 = len(data)//2 #take only positive frequencies\n",
    "    maxA = np.max(amp[:N2]) #maximum amplitude\n",
    "    maxF = f[np.argmax(amp[:N2])] #corresponding frequency\n",
    "    print(f'Max frq = {maxF:.2f} \\n')\n",
    "\n",
    "    plt.plot(f[1:N2],amp[1:N2]) #plot the amplitude spectrum\n",
    "    plt.xlabel('Hz')\n",
    "    plt.savefig('amplitude2.png')\n",
    "    "
   ]
  },
  {
   "cell_type": "code",
   "execution_count": 11,
   "id": "f3f5f9b4-c22b-42bd-8ca0-1d31f957b408",
   "metadata": {
    "tags": []
   },
   "outputs": [
    {
     "name": "stdout",
     "output_type": "stream",
     "text": [
      "Parallel Time: 7.21 s\n",
      "Max frq = 350.00 \n",
      "\n"
     ]
    }
   ],
   "source": [
    "! mpiexec -n 2 python exercises/DFT_parallel.py"
   ]
  },
  {
   "cell_type": "markdown",
   "id": "cb826258-36d8-4c22-a4a2-7af75265a224",
   "metadata": {},
   "source": [
    "---\n",
    "<img src=\"img/exercise.png\" width=\"45\"> **Exercise**\n",
    "\n",
    "Find the optimal number of parallel processes!\n",
    "\n",
    "---"
   ]
  },
  {
   "cell_type": "code",
   "execution_count": null,
   "id": "2eef8d07-eb9c-41e9-a4d9-98d013343fef",
   "metadata": {},
   "outputs": [],
   "source": []
  }
 ],
 "metadata": {
  "kernelspec": {
   "display_name": "Python 3 (ipykernel)",
   "language": "python",
   "name": "python3"
  },
  "language_info": {
   "codemirror_mode": {
    "name": "ipython",
    "version": 3
   },
   "file_extension": ".py",
   "mimetype": "text/x-python",
   "name": "python",
   "nbconvert_exporter": "python",
   "pygments_lexer": "ipython3",
   "version": "3.12.4"
  }
 },
 "nbformat": 4,
 "nbformat_minor": 5
}
